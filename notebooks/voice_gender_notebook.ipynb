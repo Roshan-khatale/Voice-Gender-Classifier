{
  "cells": [
    {
      "cell_type": "code",
      "execution_count": null,
      "metadata": {},
      "outputs": [],
      "source": [
        "import pandas as pd\n",
        "from sklearn.linear_model import LogisticRegression\n",
        "import matplotlib.pyplot as plt\n\n",
        "df = pd.read_csv('../data/voice_data.csv')\n",
        "X = df.drop('gender', axis=1)\n",
        "y = df['gender']\n",
        "model = LogisticRegression()\n",
        "model.fit(X, y)\n",
        "print(f\"Training accuracy: {model.score(X, y):.2f}\")\n",
        "y_pred = model.predict(X)\n",
        "plt.bar(y, height=[1]*len(y))\n",
        "plt.title('Voice Gender Prediction Distribution')\n",
        "plt.show()"
      ]
    }
  ],
  "metadata": {},
  "nbformat": 4,
  "nbformat_minor": 5
}